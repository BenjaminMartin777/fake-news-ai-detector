{
 "cells": [
  {
   "cell_type": "code",
   "execution_count": 4,
   "metadata": {},
   "outputs": [
    {
     "name": "stdout",
     "output_type": "stream",
     "text": [
      "WASHINGTON, D.C. — A review of FBI Director James Comey’s professional history and relationships shows that the Obama cabinet leader — now under fire for his handling of the investigation of Hillary Clinton — is deeply entrenched in the big-money cronyism culture of Washington, D.C. His personal and professional relationships — all undisclosed as he announced the Bureau would not prosecute Clinton — reinforce bipartisan concerns that he may have politicized the criminal probe.\n"
     ]
    },
    {
     "name": "stderr",
     "output_type": "stream",
     "text": [
      "[nltk_data] Downloading package stopwords to\n",
      "[nltk_data]     /Users/benjaminmartin/nltk_data...\n",
      "[nltk_data]   Package stopwords is already up-to-date!\n"
     ]
    },
    {
     "data": {
      "text/plain": [
       "0.5126473"
      ]
     },
     "execution_count": 4,
     "metadata": {},
     "output_type": "execute_result"
    }
   ],
   "source": [
    "import nltk\n",
    "import string\n",
    "import numpy as np\n",
    "import pandas as pd\n",
    "import seaborn as sns\n",
    "from nltk.corpus import stopwords\n",
    "from sklearn.utils import shuffle\n",
    "from matplotlib import pyplot as plt\n",
    "from sklearn.pipeline import Pipeline\n",
    "from sklearn.compose import ColumnTransformer\n",
    "from tensorflow.keras.models import load_model\n",
    "from sklearn.preprocessing import FunctionTransformer\n",
    "from tensorflow.keras.preprocessing.text import Tokenizer\n",
    "from tensorflow.keras.preprocessing.sequence import pad_sequences\n",
    "\n",
    "def master_function(text):\n",
    "    res = punctuation_removal(text[0][0])\n",
    "    res = remove_numbers(res)\n",
    "    res = remove_stopwords(res)\n",
    "    res = tokenize(res)\n",
    "    res = predict(res)\n",
    "    text[0][0] = res\n",
    "    return res\n",
    "\n",
    "def punctuation_removal(text):\n",
    "    print(text)\n",
    "    all_list = [char for char in text if char not in string.punctuation]\n",
    "    clean_str = ''.join(all_list)\n",
    "    return clean_str\n",
    "\n",
    "def remove_numbers(text):\n",
    "    words_only = ''.join([i for i in text if not i.isdigit()])\n",
    "    return words_only\n",
    "\n",
    "def remove_stopwords(text):\n",
    "    nltk.download('stopwords')\n",
    "    stop = stopwords.words('english')\n",
    "    words_only = ' '.join([word for word in text.split() if word not in (stop)])\n",
    "    return words_only\n",
    "\n",
    "def tokenize(text):\n",
    "    max_words = 2000\n",
    "    token = Tokenizer(num_words=max_words, lower=True, split=' ')\n",
    "    token.fit_on_texts(text)\n",
    "    test_sequences = token.texts_to_sequences(text)\n",
    "    test_sequences_padded = list(pad_sequences(test_sequences))\n",
    "    return test_sequences_padded\n",
    "\n",
    "def predict(text):\n",
    "    model = load_model('LSTM_pong_model_2020-12-08__13-00-29.h5')\n",
    "    y_predict = model.predict(text)\n",
    "    return y_predict[0][0]\n",
    "\n",
    "\n",
    "\n",
    "df = 'WASHINGTON, D.C. — A review of FBI Director James Comey’s professional history and relationships shows that the Obama cabinet leader — now under fire for his handling of the investigation of Hillary Clinton — is deeply entrenched in the big-money cronyism culture of Washington, D.C. His personal and professional relationships — all undisclosed as he announced the Bureau would not prosecute Clinton — reinforce bipartisan concerns that he may have politicized the criminal probe.'\n",
    "\n",
    "answer = []\n",
    "answer.append(df)\n",
    "answer = np.array(answer)\n",
    "df = pd.DataFrame(answer)\n",
    "\n",
    "\n",
    "master_function(df)\n"
   ]
  },
  {
   "cell_type": "code",
   "execution_count": null,
   "metadata": {},
   "outputs": [],
   "source": []
  }
 ],
 "metadata": {
  "kernelspec": {
   "display_name": "Python 3",
   "language": "python",
   "name": "python3"
  },
  "language_info": {
   "codemirror_mode": {
    "name": "ipython",
    "version": 3
   },
   "file_extension": ".py",
   "mimetype": "text/x-python",
   "name": "python",
   "nbconvert_exporter": "python",
   "pygments_lexer": "ipython3",
   "version": "3.7.7"
  }
 },
 "nbformat": 4,
 "nbformat_minor": 4
}
